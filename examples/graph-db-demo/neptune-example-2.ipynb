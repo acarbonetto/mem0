{
 "cells": [
  {
   "cell_type": "markdown",
   "metadata": {},
   "source": [
    "# Neptune as Graph Memory\n",
    "\n",
    "In this notebook we will be showing you how Mem0 stores Memories as vectors in OpenSearch, and as graph relations in Neptune Analytics."
   ]
  },
  {
   "cell_type": "markdown",
   "metadata": {},
   "source": [
    "## Prerequisites\n",
    "\n",
    "### 1. Install Mem0 with Graph Memory support \n",
    "\n",
    "To use Mem0 with Graph Memory support, install it using pip:\n",
    "\n",
    "```bash\n",
    "pip install \"mem0ai[graph]\"\n",
    "```\n",
    "\n",
    "This command installs Mem0 along with the necessary dependencies for graph functionality.\n",
    "\n",
    "### 2. Connect to Neptune\n",
    "\n",
    "To connect to AWS Neptune Analytics, you need to configure Neptune with your AWS profile details. I have configured AWS credentials in my home profile and can connect by specifying the AWS_PROFILE environment variable\n",
    "\n",
    "TODO: Reference to: Neptune setup; aws-langchain\n",
    "\n",
    "### 3. Configure OpenSearch\n",
    "\n",
    "We're going to use OpenSearch as our vector store.  You can run [OpenSearch from docker image](https://docs.opensearch.org/docs/latest/install-and-configure/install-opensearch/docker/):\n",
    "\n",
    "```bash\n",
    "docker pull opensearchproject/opensearch:3\n",
    "```\n",
    "\n",
    "And verify that it's running with a `<custom-admin-password>`:\n",
    "\n",
    "```bash\n",
    " docker run -d -p 9200:9200 -p 9600:9600 -e \"discovery.type=single-node\" -e \"OPENSEARCH_INITIAL_ADMIN_PASSWORD=<custom-admin-password>\" opensearchproject/opensearch:latest\n",
    "\n",
    " curl https://localhost:9200 -ku admin:<custom-admin-password>\n",
    "```\n",
    "\n",
    "We're going to connect [OpenSearch using the python client](https://github.com/opensearch-project/opensearch-py):\n",
    "\n",
    "```bash\n",
    "pip install \"opensearch-py\"\n",
    "```"
   ]
  },
  {
   "cell_type": "markdown",
   "metadata": {},
   "source": [
    "## Configuration\n",
    "\n",
    "Do all the imports and configure OpenAI (enter your OpenAI API key):"
   ]
  },
  {
   "cell_type": "code",
   "metadata": {},
   "source": [
    "from mem0 import Memory\n",
    "from opensearchpy import OpenSearch\n",
    "from langchain_aws import NeptuneAnalyticsGraph\n",
    "import os, logging, sys\n",
    "\n",
    "logging.getLogger('mem0.memory.neptune_memory').setLevel(logging.DEBUG)\n",
    "logger = logging.getLogger(__name__)\n",
    "logger.setLevel(logging.DEBUG)\n",
    "\n",
    "logging.basicConfig(\n",
    "    format='%(levelname)s - %(message)s',\n",
    "    datefmt='%Y-%m-%d %H:%M:%S',\n",
    "    stream=sys.stdout  # Explicitly set output to stdout\n",
    ")"
   ],
   "outputs": [],
   "execution_count": null
  },
  {
   "cell_type": "markdown",
   "metadata": {},
   "source": [
    "Setup the Mem0 configuration using:\n",
    "- openai as the embedder\n",
    "- AWS Neptune Analytics instance as a graph store\n",
    "- OpenSearch as the vector store"
   ]
  },
  {
   "cell_type": "code",
   "metadata": {},
   "source": [
    "graph_identifier = os.environ.get(\"GRAPH_ID\")\n",
    "opensearch_username = os.environ.get(\"OS_USERNAME\")\n",
    "opensearch_password = os.environ.get(\"OS_PASSWORD\")\n",
    "config = {\n",
    "    \"embedder\": {\n",
    "        \"provider\": \"openai\",\n",
    "        \"config\": {\n",
    "            \"model\": \"text-embedding-3-large\",\n",
    "            \"embedding_dims\": 1536\n",
    "        },\n",
    "    },\n",
    "    \"graph_store\": {\n",
    "        \"provider\": \"neptune\",\n",
    "        \"config\": {\n",
    "            \"graph_identifier\": graph_identifier,\n",
    "            # \"endpoint_url\": endpoint_url,\n",
    "            # \"region\": region,\n",
    "        },\n",
    "    },\n",
    "    \"vector_store\": {\n",
    "        \"provider\": \"opensearch\",\n",
    "        \"config\": {\n",
    "            \"collection_name\": \"vector_store\",\n",
    "            \"host\": \"localhost\",\n",
    "            \"port\": 9200,\n",
    "            \"user\": opensearch_username,\n",
    "            \"password\": opensearch_password,\n",
    "            \"use_ssl\": False,\n",
    "            \"verify_certs\": False,\n",
    "        },\n",
    "    },\n",
    "}"
   ],
   "outputs": [],
   "execution_count": null
  },
  {
   "cell_type": "markdown",
   "metadata": {},
   "source": [
    "## Graph Memory initializiation \n",
    "\n",
    "Initialize Memgraph as a Graph Memory store: "
   ]
  },
  {
   "cell_type": "code",
   "metadata": {},
   "source": [
    "m = Memory.from_config(config_dict=config)\n",
    "\n",
    "app_id = \"indian_questions\"\n",
    "user_id = \"user1\""
   ],
   "outputs": [],
   "execution_count": null
  },
  {
   "cell_type": "markdown",
   "metadata": {},
   "source": [
    "## Store memories \n",
    "\n",
    "Create memories:"
   ]
  },
  {
   "metadata": {},
   "cell_type": "code",
   "source": [
    "# First turn: Initial conversation about Indian famous people\n",
    "messages1=[{\"role\": \"user\", \"content\": \"user wants to know about famous people from india\"},\n",
    "           {\"role\": \"assistant\", \"content\": \"India has produced many famous individuals across various fields. Here are a few notable figures: \\\n",
    "    Mahatma Gandhi - Known for his role in India's independence movement through nonviolent civil disobedience. \\\n",
    "    Dr. B.R. Ambedkar - An influential social reformer and the principal architect of the Indian Constituti2on. \\\n",
    "    Rabindranath Tagore - A poet, writer, and the first non-European to win the Nobel Prize in Literature. \\\n",
    "    Mother Teresa - Renowned for her humanitarian work and dedication to helping the poor and sick. A.P.J. Abdul Kalam - A scientist and the 11th President of India, known for his work in aerospace engineering and his inspirational leadership. \\\n",
    "    These individuals have made significant contributions to society and have left a lasting impact both in India and around the world. \"}]\n",
    "result1=m.add(\n",
    "    messages1,\n",
    "    metadata={\"app_id\": app_id},\n",
    "    user_id=\"user1\"\n",
    ")\n",
    "\n",
    "print(\"----Turn 1 Memory Result:----\")\n",
    "for n in result1['results']:\n",
    "    print(f\"node id={n['id']} memory={n['memory']}\")\n",
    "for e in result1['relations']['added_entities']:\n",
    "    print(f\"edge \\\"{e[0][\"source\"]}\\\" --{e[0][\"relationship\"]}--> \\\"{e[0][\"target\"]}\\\"\")\n",
    "\n"
   ],
   "outputs": [],
   "execution_count": null
  },
  {
   "cell_type": "code",
   "metadata": {},
   "source": [
    "# Second turn: User asks about Indian cuisine\n",
    "messages2=[{\"role\": \"user\", \"content\": \"What are some famous Indian dishes I should try?\"},\n",
    "           {\"role\": \"assistant\", \"content\": \"India offers a rich variety of delicious dishes. Here are some you should definitely try:\\\n",
    "    \\n\\n1. Butter Chicken - A creamy tomato-based curry with tender chicken pieces\\\n",
    "    \\n2. Masala Dosa - A crispy rice pancake filled with spiced potatoes\\\n",
    "    \\n3. Biryani - Fragrant rice dish with meat or vegetables and aromatic spices\\\n",
    "    \\n4. Samosas - Triangular pastries filled with spiced potatoes and peas\\\n",
    "    \\n5. Chaat - A category of savory snacks featuring crispy elements, yogurt, and tangy chutneys\\\n",
    "    \\n6. Palak Paneer - Cottage cheese cubes in a spinach-based sauce\\\n",
    "    \\n\\nThese dishes represent different regions of India and showcase the diverse flavors of Indian cuisine.\"}]\n",
    "result2=m.add(\n",
    "    messages2,\n",
    "    metadata={\"app_id\": app_id},\n",
    "    user_id=\"user1\"\n",
    ")\n",
    "\n",
    "print(\"----Turn 2 Memory Result:----\")\n",
    "for n in result2['results']:\n",
    "    print(f\"node id={n['id']} memory={n['memory']}\")\n",
    "for e in result2['relations']['added_entities']:\n",
    "    print(f\"edge \\\"{e[0][\"source\"]}\\\" --{e[0][\"relationship\"]}--> \\\"{e[0][\"target\"]}\\\"\")\n"
   ],
   "outputs": [],
   "execution_count": null
  },
  {
   "metadata": {},
   "cell_type": "markdown",
   "source": "Create Agent Memories"
  },
  {
   "metadata": {},
   "cell_type": "code",
   "source": [
    "# Third turn: Assistant recognizes user's food preferences\n",
    "messages3=[{\"role\": \"assistant\", \"content\": \"That's great to hear you enjoy spicy food, particularly vindaloo! Vindaloo is indeed known for its fiery heat and complex flavors, originally from Goa but popular throughout India and abroad. Your experience trying it in Mumbai during your business trip last year must have been authentic. Mumbai has some excellent restaurants serving regional cuisines from across India. Did you get to try any other local specialties during your visit? Many travelers find that the food in India varies dramatically from region to region.\"}]\n",
    "result3=m.add(\n",
    "    messages3,\n",
    "    metadata={\"app_id\": app_id},\n",
    "    agent_id=\"agent1\"\n",
    ")\n",
    "\n",
    "print(\"----Turn 3 Memory Result:----\")\n",
    "for n in result3['results']:\n",
    "    print(f\"node id={n['id']} memory={n['memory']}\")\n",
    "for e in result3['relations']['added_entities']:\n",
    "    print(f\"edge \\\"{e[0][\"source\"]}\\\" --{e[0][\"relationship\"]}--> \\\"{e[0][\"target\"]}\\\"\")\n"
   ],
   "outputs": [],
   "execution_count": null
  },
  {
   "metadata": {},
   "cell_type": "markdown",
   "source": "Add run-specific memories"
  },
  {
   "metadata": {},
   "cell_type": "code",
   "source": [
    "result4 = m.add(\n",
    "    messages3,\n",
    "    metadata={\"app_id\": app_id},\n",
    "    run_id=\"trip-planning-2024\"\n",
    ")\n",
    "print(\"trip-planning-2024 Result:\", result4)"
   ],
   "outputs": [],
   "execution_count": null
  },
  {
   "cell_type": "markdown",
   "metadata": {},
   "source": [
    "## Search memories"
   ]
  },
  {
   "cell_type": "code",
   "metadata": {},
   "source": [
    "for result in m.search(\"What do we know about this user?\", user_id=user_id, limit=10)[\"results\"]:\n",
    "    print(f\"\\\"{result[\"memory\"]}\\\" [score: {result[\"score\"]}]\")"
   ],
   "outputs": [],
   "execution_count": null
  },
  {
   "metadata": {},
   "cell_type": "markdown",
   "source": "Neptune Analytics Graph"
  },
  {
   "metadata": {},
   "cell_type": "code",
   "source": [
    "all_results = m.get_all(user_id=user_id)\n",
    "for n in all_results['results']:\n",
    "    print(f\"node \\\"{n[\"memory\"]}\\\": [hash: {n[\"hash\"]}]\")\n",
    "\n",
    "for e in all_results['relations']:\n",
    "    print(f\"edge \\\"{e[\"source\"]}\\\" --{e[\"relationship\"]}--> \\\"{e[\"target\"]}\\\"\")"
   ],
   "outputs": [],
   "execution_count": null
  },
  {
   "metadata": {},
   "cell_type": "code",
   "source": [
    "### NOTE: search/get_all by agent_id or run_id is not yet supported\n",
    "\n",
    "all_results = m.get_all(agent_id=\"agent1\")\n",
    "for n in all_results['results']:\n",
    "    print(f\"node \\\"{n[\"memory\"]}\\\": [hash: {n[\"hash\"]}]\")\n",
    "\n",
    "for e in all_results['relations']:\n",
    "    print(f\"edge \\\"{e[\"source\"]}\\\" --{e[\"relationship\"]}--> \\\"{e[\"target\"]}\\\"\")"
   ],
   "outputs": [],
   "execution_count": null
  },
  {
   "metadata": {},
   "cell_type": "code",
   "source": [
    "neptune_graph = NeptuneAnalyticsGraph(graph_identifier)\n",
    "\n",
    "query = \"\"\"\n",
    "        MATCH (n {user_id: $user_id})-[r]->(m {user_id: $user_id})\n",
    "        RETURN n.name AS source, type(r) AS relationship, m.name AS target\n",
    "        LIMIT $limit\n",
    "        \"\"\"\n",
    "edge_results = neptune_graph.query(\n",
    "    query, params={\"user_id\": user_id, \"limit\": 100}\n",
    ")\n",
    "print(\"----RELATIONSHIPS----\")\n",
    "for e in edge_results:\n",
    "    print(f\"edge \\\"{e[\"source\"]}\\\" --{e[\"relationship\"]}--> \\\"{e[\"target\"]}\\\"\")\n"
   ],
   "outputs": [],
   "execution_count": null
  },
  {
   "metadata": {},
   "cell_type": "code",
   "source": [
    "opensearch_index = \"vector_store\"\n",
    "vector_store_config = config[opensearch_index][\"config\"]\n",
    "\n",
    "# Create the client with SSL/TLS enabled, but hostname verification disabled.\n",
    "client = OpenSearch(\n",
    "    hosts = [{'host': vector_store_config[\"host\"], 'port': vector_store_config[\"port\"]}],\n",
    "    http_compress = True, # enables gzip compression for request bodies\n",
    "    http_auth = (vector_store_config[\"user\"], vector_store_config[\"password\"]),\n",
    "    use_ssl = vector_store_config[\"use_ssl\"],\n",
    "    verify_certs = vector_store_config[\"verify_certs\"],\n",
    "    ssl_assert_hostname = False,\n",
    "    ssl_show_warn = False,\n",
    ")\n",
    "\n",
    "query = {\"query\":{\"match_all\": {}}}\n",
    "\n",
    "response = client.search(\n",
    "    body = query,\n",
    "    index = opensearch_index,\n",
    ")\n",
    "\n",
    "print(\"----VECTORS----\")\n",
    "for v in response[\"hits\"][\"hits\"]:\n",
    "    print(f\"vector id=\\\"{v[\"_source\"][\"id\"]}\\\" data={v[\"_source\"][\"payload\"][\"data\"]}\")"
   ],
   "outputs": [],
   "execution_count": null
  },
  {
   "metadata": {},
   "cell_type": "markdown",
   "source": "Reset memories: vectors, and graph relationships"
  },
  {
   "metadata": {},
   "cell_type": "code",
   "source": [
    "m.reset()\n",
    "# only works for neptune_memory\n",
    "memory_graph = m.graph.reset()"
   ],
   "outputs": [],
   "execution_count": null
  }
 ],
 "metadata": {
  "kernelspec": {
   "display_name": ".venv",
   "language": "python",
   "name": "python3"
  },
  "language_info": {
   "codemirror_mode": {
    "name": "ipython",
    "version": 3
   },
   "file_extension": ".py",
   "mimetype": "text/x-python",
   "name": "python",
   "nbconvert_exporter": "python",
   "pygments_lexer": "ipython3",
   "version": "3.13.2"
  }
 },
 "nbformat": 4,
 "nbformat_minor": 2
}
